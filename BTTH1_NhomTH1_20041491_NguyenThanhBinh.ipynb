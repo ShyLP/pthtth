{
 "cells": [
  {
   "cell_type": "markdown",
   "metadata": {},
   "source": [
    "# Họ và tên:\n",
    "# MSSV:\n",
    "# Lớp học phần - Nhóm TH:"
   ]
  },
  {
   "cell_type": "markdown",
   "metadata": {},
   "source": [
    "# 1. Hello world!"
   ]
  },
  {
   "cell_type": "code",
   "execution_count": null,
   "metadata": {},
   "outputs": [
    {
     "name": "stdout",
     "output_type": "stream",
     "text": [
      "hello world\n"
     ]
    }
   ],
   "source": [
    "print(\"hello world\")"
   ]
  },
  {
   "cell_type": "markdown",
   "metadata": {},
   "source": [
    "# 2. Program to Add Two Numbers"
   ]
  },
  {
   "cell_type": "markdown",
   "metadata": {},
   "source": [
    "## Add Two Numbers"
   ]
  },
  {
   "cell_type": "code",
   "execution_count": null,
   "metadata": {},
   "outputs": [
    {
     "name": "stdout",
     "output_type": "stream",
     "text": [
      "7.8\n"
     ]
    }
   ],
   "source": [
    "num1 = 1.5\n",
    "num2 = 6.3\n",
    "\n",
    "### START CODE HERE ### \n",
    "# Add two numbers\n",
    "\n",
    "sum = num1 + num2\n",
    "\n",
    "# Display the sum\n",
    "print(sum)"
   ]
  },
  {
   "cell_type": "markdown",
   "metadata": {},
   "source": [
    "##  Add Two Numbers With User Input"
   ]
  },
  {
   "cell_type": "code",
   "execution_count": 1,
   "metadata": {},
   "outputs": [
    {
     "name": "stdout",
     "output_type": "stream",
     "text": [
      "3\n"
     ]
    }
   ],
   "source": [
    "# Store input numbers\n",
    "num1 = 1\n",
    "num2 = 2\n",
    "\n",
    "### START CODE HERE ### \n",
    "\n",
    "# Add two numbers\n",
    "sum = num1 + num2\n",
    "\n",
    "### END CODE HERE ###\n",
    "\n",
    "# Display the sum\n",
    "print(sum)"
   ]
  },
  {
   "cell_type": "markdown",
   "metadata": {},
   "source": [
    "# 3. Program to Find the Square Root"
   ]
  },
  {
   "cell_type": "code",
   "execution_count": 5,
   "metadata": {},
   "outputs": [
    {
     "name": "stdout",
     "output_type": "stream",
     "text": [
      "The square root of 100 is 10.0\n"
     ]
    }
   ],
   "source": [
    "import math\n",
    "\n",
    "# Note: change this value for a different result\n",
    "num = 100\n",
    "\n",
    "# To take the input from the user\n",
    "# num = float(input('Enter a number: '))\n",
    "\n",
    "# Calculate the square root using math.sqrt()\n",
    "sqrt_num = math.sqrt(num)\n",
    "\n",
    "# Print the value of the square root\n",
    "print(\"The square root of {} is {}\".format(num, sqrt_num))\n"
   ]
  },
  {
   "cell_type": "markdown",
   "metadata": {},
   "source": [
    "# 4. Program to Calculate the Area of a Triangle\n",
    "s = (a+b+c)/2\n",
    "\n",
    "area = √(s(s-a)*(s-b)*(s-c))"
   ]
  },
  {
   "cell_type": "code",
   "execution_count": 1,
   "metadata": {},
   "outputs": [
    {
     "name": "stdout",
     "output_type": "stream",
     "text": [
      "The area of the triangle is 7.48\n"
     ]
    }
   ],
   "source": [
    "### START CODE HERE ### \n",
    "import math\n",
    "# take inputs from the user\n",
    "a = 6\n",
    "b = 5\n",
    "c = 3\n",
    "# calculate the semi-perimeter\n",
    "s = (a+b+c)/2\n",
    "\n",
    "# calculate the area\n",
    "area = math.sqrt(s*(s-a)*(s-b)*(s-c))\n",
    "\n",
    "### END CODE HERE ###\n",
    "\n",
    "print(\"The area of the triangle is %0.2f\" %area)"
   ]
  },
  {
   "cell_type": "markdown",
   "metadata": {},
   "source": [
    "# 5. Program to Solve Quadratic Equation\n",
    "ax2 + bx + c = 0, where a, b and c are real numbers and a ≠ 0"
   ]
  },
  {
   "cell_type": "code",
   "execution_count": 1,
   "metadata": {},
   "outputs": [
    {
     "name": "stdout",
     "output_type": "stream",
     "text": [
      "The solution are (-20+0j) and (-100+0j)\n"
     ]
    }
   ],
   "source": [
    "\n",
    "### START CODE HERE ### \n",
    "import cmath\n",
    "# take inputs from the user\n",
    "a = 10\n",
    "b = 12\n",
    "c = 2\n",
    "\n",
    "# calculate the discriminant\n",
    "d = b*b - (4*a*c)\n",
    "\n",
    "# find two solutions using square root for real/complex number\n",
    "sol1 = (-b + cmath.sqrt(d))/2*a\n",
    "sol2 = (-b - cmath.sqrt(d))/2*a\n",
    "### END CODE HERE ###\n",
    "\n",
    "print('The solution are {0} and {1}'.format(sol1,sol2))"
   ]
  },
  {
   "cell_type": "markdown",
   "metadata": {},
   "source": [
    "# 6. Program to Swap Two Variables"
   ]
  },
  {
   "cell_type": "code",
   "execution_count": 6,
   "metadata": {},
   "outputs": [
    {
     "name": "stdout",
     "output_type": "stream",
     "text": [
      "The value of x before swapping: 1\n",
      "The value of y before swapping: 2\n",
      "The value of x after swapping: 2\n",
      "The value of y after swapping: 1\n"
     ]
    }
   ],
   "source": [
    "# To take inputs from the user\n",
    "x = 1\n",
    "y = 2\n",
    "\n",
    "# Display the original values\n",
    "print(\"The value of x before swapping: {}\".format(x))\n",
    "print(\"The value of y before swapping: {}\".format(y))\n",
    "\n",
    "# Create a temporary variable and swap the values\n",
    "temp = x\n",
    "x = y\n",
    "y = temp\n",
    "\n",
    "# Print the value of x, y after swapping\n",
    "print(\"The value of x after swapping: {}\".format(x))\n",
    "print(\"The value of y after swapping: {}\".format(y))\n"
   ]
  },
  {
   "cell_type": "code",
   "execution_count": 7,
   "metadata": {},
   "outputs": [
    {
     "name": "stdout",
     "output_type": "stream",
     "text": [
      "The value of x before swapping: 1, address: 140735028454184\n",
      "The value of y before swapping: 2, address: 140735028454216\n",
      "The value of temp: 1, address: 140735028454184\n",
      "The value of x after swapping: 2, address: 140735028454216\n",
      "The value of y after swapping: 1, address: 140735028454184\n"
     ]
    }
   ],
   "source": [
    "# To take inputs from the user\n",
    "x = 1\n",
    "y = 2\n",
    "\n",
    "### START CODE HERE ###\n",
    "# Get the memory address (in RAM) of variables x and y\n",
    "address_x_before = id(x)\n",
    "address_y_before = id(y)\n",
    "### END CODE HERE ###\n",
    "\n",
    "# Display the original values and their addresses\n",
    "print(\"The value of x before swapping: {}, address: {}\".format(x, address_x_before))\n",
    "print(\"The value of y before swapping: {}, address: {}\".format(y, address_y_before))\n",
    "\n",
    "# Create a temporary variable and swap the values\n",
    "temp = x\n",
    "\n",
    "### START CODE HERE ###\n",
    "# Get the memory address (in RAM) of variable temp\n",
    "address_temp = id(temp)\n",
    "### END CODE HERE ###\n",
    "\n",
    "print(\"The value of temp: {}, address: {}\".format(temp, address_temp))\n",
    "\n",
    "x = y\n",
    "y = temp\n",
    "\n",
    "### START CODE HERE ###\n",
    "# Get the memory address (in RAM) of variables x and y after swapping\n",
    "address_x_after = id(x)\n",
    "address_y_after = id(y)\n",
    "### END CODE HERE ###\n",
    "\n",
    "# Print the value of x, y after swapping and their addresses\n",
    "print(\"The value of x after swapping: {}, address: {}\".format(x, address_x_after))\n",
    "print(\"The value of y after swapping: {}, address: {}\".format(y, address_y_after))\n"
   ]
  },
  {
   "cell_type": "markdown",
   "metadata": {},
   "source": [
    "# 7. Program to Generate a Random Number\n",
    "https://docs.python.org/3/library/random.html"
   ]
  },
  {
   "cell_type": "code",
   "execution_count": 10,
   "metadata": {},
   "outputs": [
    {
     "name": "stdout",
     "output_type": "stream",
     "text": [
      "Random integer between 0 and 9:  2\n",
      "Random integer between 0 and 8:  6\n",
      "Random integer between 3 and 8:  7\n",
      "Random float between 0 and 1:  0.6047795116675919\n",
      "Random float between 2.5 and 5.5:  3.22884701701753\n"
     ]
    }
   ],
   "source": [
    "# Program to generate a random number between 0 and 9\n",
    "\n",
    "# importing the random module\n",
    "import random\n",
    "\n",
    "# Generate a random integer between 0 and 9\n",
    "print(\"Random integer between 0 and 9: \", random.randint(0, 9))\n",
    "\n",
    "# Uncomment to try different functions in the random module\n",
    "# Generate a random integer between 0 and 8\n",
    "print(\"Random integer between 0 and 8: \", random.randrange(9))\n",
    "\n",
    "# Generate a random integer between 3 and 8\n",
    "print(\"Random integer between 3 and 8: \", random.randrange(3, 9))\n",
    "\n",
    "# Generate a random float between 0 and 1\n",
    "print(\"Random float between 0 and 1: \", random.random())\n",
    "\n",
    "# Generate a random float between a and b (for this example, let's say a = 2.5 and b = 5.5)\n",
    "a = 2.5\n",
    "b = 5.5\n",
    "print(f\"Random float between {a} and {b}: \", random.uniform(a, b))\n"
   ]
  },
  {
   "cell_type": "markdown",
   "metadata": {},
   "source": [
    "# 8. Program to Convert Kilometers to Miles\n",
    "1 km = (1/1.609344) mi = 0.62137119 mi"
   ]
  },
  {
   "cell_type": "code",
   "execution_count": 25,
   "metadata": {},
   "outputs": [
    {
     "name": "stdout",
     "output_type": "stream",
     "text": [
      "10.00 kilometers is equal to 6.21 miles\n"
     ]
    }
   ],
   "source": [
    "# Taking kilometers input from the user\n",
    "kilometers = 10\n",
    "# conversion factor\n",
    "conv_fac = 0.621371\n",
    "\n",
    "# calculate miles\n",
    "miles = kilometers * conv_fac\n",
    "print('%0.2f kilometers is equal to %0.2f miles' %(kilometers,miles))"
   ]
  },
  {
   "cell_type": "code",
   "execution_count": 20,
   "metadata": {},
   "outputs": [
    {
     "name": "stdout",
     "output_type": "stream",
     "text": [
      "10.00 miles is equal to 16.09 kilometers\n"
     ]
    }
   ],
   "source": [
    "### START CODE HERE ### \n",
    "# Taking miles input from the user\n",
    "miles = 10\n",
    "\n",
    "# conversion factor from miles to kilometers\n",
    "conv_fac = 1.60934\n",
    "\n",
    "# calculate kilometers\n",
    "kilometers = miles * conv_fac\n",
    "\n",
    "# display the result\n",
    "print('%0.2f miles is equal to %0.2f kilometers' %(miles, kilometers))\n",
    "### END CODE HERE ###\n"
   ]
  },
  {
   "cell_type": "markdown",
   "metadata": {},
   "source": [
    "# 9. Program to Convert Celsius To Fahrenheit\n",
    "T(°F) = T(°C) × 1.8 + 32"
   ]
  },
  {
   "cell_type": "code",
   "execution_count": 19,
   "metadata": {},
   "outputs": [
    {
     "name": "stdout",
     "output_type": "stream",
     "text": [
      "10.00 Celsius is equal to 50.00 Fahrenheit\n"
     ]
    }
   ],
   "source": [
    "### START CODE HERE ### \n",
    "# Taking celsius input from the user\n",
    "celsius = 10\n",
    "\n",
    "# Calculate Fahrenheit using the formula\n",
    "fahrenheit = celsius * 1.8 + 32\n",
    "\n",
    "# Print the result\n",
    "print('%0.2f Celsius is equal to %0.2f Fahrenheit' %(celsius, fahrenheit))\n",
    "### END CODE HERE ###\n"
   ]
  }
 ],
 "metadata": {
  "kernelspec": {
   "display_name": "Python 3",
   "language": "python",
   "name": "python3"
  },
  "language_info": {
   "codemirror_mode": {
    "name": "ipython",
    "version": 3
   },
   "file_extension": ".py",
   "mimetype": "text/x-python",
   "name": "python",
   "nbconvert_exporter": "python",
   "pygments_lexer": "ipython3",
   "version": "3.11.5"
  }
 },
 "nbformat": 4,
 "nbformat_minor": 2
}
